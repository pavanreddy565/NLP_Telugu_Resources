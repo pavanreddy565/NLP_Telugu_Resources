{
  "nbformat": 4,
  "nbformat_minor": 0,
  "metadata": {
    "colab": {
      "provenance": [],
      "authorship_tag": "ABX9TyNxceXATcojQhg7kTvxzV1H",
      "include_colab_link": true
    },
    "kernelspec": {
      "name": "python3",
      "display_name": "Python 3"
    },
    "language_info": {
      "name": "python"
    }
  },
  "cells": [
    {
      "cell_type": "markdown",
      "metadata": {
        "id": "view-in-github",
        "colab_type": "text"
      },
      "source": [
        "<a href=\"https://colab.research.google.com/github/pavanreddy565/NLP_Telugu_Resources/blob/main/Tokenization%20/Telugu_Tokenization_using_nltk.ipynb\" target=\"_parent\"><img src=\"https://colab.research.google.com/assets/colab-badge.svg\" alt=\"Open In Colab\"/></a>"
      ]
    },
    {
      "cell_type": "code",
      "execution_count": 11,
      "metadata": {
        "colab": {
          "base_uri": "https://localhost:8080/"
        },
        "id": "cOVBu4Oh0gmC",
        "outputId": "27a42553-06b5-4710-da41-bd76476a9658"
      },
      "outputs": [
        {
          "output_type": "stream",
          "name": "stdout",
          "text": [
            "Looking in links: https://download.pytorch.org/whl/cpu/torch_stable.html\n",
            "\u001b[31mERROR: Could not find a version that satisfies the requirement torch==1.3.1+cpu (from versions: 1.11.0, 1.11.0+cpu, 1.12.0, 1.12.0+cpu, 1.12.1, 1.12.1+cpu, 1.13.0, 1.13.0+cpu, 1.13.1, 1.13.1+cpu, 2.0.0, 2.0.0+cpu, 2.0.1, 2.0.1+cpu, 2.1.0, 2.1.0+cpu, 2.1.1, 2.1.1+cpu, 2.1.2, 2.1.2+cpu, 2.2.0, 2.2.0+cpu, 2.2.1, 2.2.1+cpu, 2.2.2, 2.2.2+cpu, 2.3.0, 2.3.0+cpu, 2.3.1, 2.3.1+cpu)\u001b[0m\u001b[31m\n",
            "\u001b[0m\u001b[31mERROR: No matching distribution found for torch==1.3.1+cpu\u001b[0m\u001b[31m\n",
            "\u001b[0m"
          ]
        }
      ],
      "source": [
        "!pip install torch==1.3.1+cpu -f https://download.pytorch.org/whl/cpu/torch_stable.html\n"
      ]
    },
    {
      "cell_type": "code",
      "source": [
        "!pip install torch==2.3.1+cpu -f https://download.pytorch.org/whl/cpu/torch_stable.html\n"
      ],
      "metadata": {
        "colab": {
          "base_uri": "https://localhost:8080/"
        },
        "id": "MpyUBaUKegw5",
        "outputId": "4e6cf555-92b5-429b-e7da-bb699bf7183d"
      },
      "execution_count": 12,
      "outputs": [
        {
          "output_type": "stream",
          "name": "stdout",
          "text": [
            "Looking in links: https://download.pytorch.org/whl/cpu/torch_stable.html\n",
            "Collecting torch==2.3.1+cpu\n",
            "  Downloading https://download.pytorch.org/whl/cpu/torch-2.3.1%2Bcpu-cp310-cp310-linux_x86_64.whl (190.4 MB)\n",
            "\u001b[2K     \u001b[90m━━━━━━━━━━━━━━━━━━━━━━━━━━━━━━━━━━━━━━━━\u001b[0m \u001b[32m190.4/190.4 MB\u001b[0m \u001b[31m3.3 MB/s\u001b[0m eta \u001b[36m0:00:00\u001b[0m\n",
            "\u001b[?25hRequirement already satisfied: filelock in /usr/local/lib/python3.10/dist-packages (from torch==2.3.1+cpu) (3.15.4)\n",
            "Requirement already satisfied: typing-extensions>=4.8.0 in /usr/local/lib/python3.10/dist-packages (from torch==2.3.1+cpu) (4.12.2)\n",
            "Requirement already satisfied: sympy in /usr/local/lib/python3.10/dist-packages (from torch==2.3.1+cpu) (1.13.0)\n",
            "Requirement already satisfied: networkx in /usr/local/lib/python3.10/dist-packages (from torch==2.3.1+cpu) (3.3)\n",
            "Requirement already satisfied: jinja2 in /usr/local/lib/python3.10/dist-packages (from torch==2.3.1+cpu) (3.1.4)\n",
            "Requirement already satisfied: fsspec in /usr/local/lib/python3.10/dist-packages (from torch==2.3.1+cpu) (2023.6.0)\n",
            "Requirement already satisfied: MarkupSafe>=2.0 in /usr/local/lib/python3.10/dist-packages (from jinja2->torch==2.3.1+cpu) (2.1.5)\n",
            "Requirement already satisfied: mpmath<1.4,>=1.1.0 in /usr/local/lib/python3.10/dist-packages (from sympy->torch==2.3.1+cpu) (1.3.0)\n",
            "Installing collected packages: torch\n",
            "  Attempting uninstall: torch\n",
            "    Found existing installation: torch 2.3.1+cu121\n",
            "    Uninstalling torch-2.3.1+cu121:\n",
            "      Successfully uninstalled torch-2.3.1+cu121\n",
            "Successfully installed torch-2.3.1+cpu\n"
          ]
        }
      ]
    },
    {
      "cell_type": "code",
      "source": [
        "!pip install inltk"
      ],
      "metadata": {
        "colab": {
          "base_uri": "https://localhost:8080/"
        },
        "id": "GzZEsez1ai_t",
        "outputId": "6412d351-5281-480e-cf4a-da4f9ae9efc9"
      },
      "execution_count": 13,
      "outputs": [
        {
          "output_type": "stream",
          "name": "stdout",
          "text": [
            "Requirement already satisfied: inltk in /usr/local/lib/python3.10/dist-packages (0.9)\n",
            "Requirement already satisfied: aiohttp>=3.5.4 in /usr/local/lib/python3.10/dist-packages (from inltk) (3.9.5)\n",
            "Requirement already satisfied: async-timeout>=3.0.1 in /usr/local/lib/python3.10/dist-packages (from inltk) (4.0.3)\n",
            "Requirement already satisfied: Pillow in /usr/local/lib/python3.10/dist-packages (from inltk) (9.4.0)\n",
            "Requirement already satisfied: beautifulsoup4 in /usr/local/lib/python3.10/dist-packages (from inltk) (4.12.3)\n",
            "Requirement already satisfied: bottleneck in /usr/local/lib/python3.10/dist-packages (from inltk) (1.4.0)\n",
            "Requirement already satisfied: fastprogress>=0.1.19 in /usr/local/lib/python3.10/dist-packages (from inltk) (1.0.3)\n",
            "Requirement already satisfied: matplotlib in /usr/local/lib/python3.10/dist-packages (from inltk) (3.7.1)\n",
            "Requirement already satisfied: numexpr in /usr/local/lib/python3.10/dist-packages (from inltk) (2.10.1)\n",
            "Requirement already satisfied: numpy>=1.15 in /usr/local/lib/python3.10/dist-packages (from inltk) (1.25.2)\n",
            "Requirement already satisfied: nvidia-ml-py3 in /usr/local/lib/python3.10/dist-packages (from inltk) (7.352.0)\n",
            "Requirement already satisfied: packaging in /usr/local/lib/python3.10/dist-packages (from inltk) (24.1)\n",
            "Requirement already satisfied: pandas in /usr/local/lib/python3.10/dist-packages (from inltk) (2.0.3)\n",
            "Requirement already satisfied: pyyaml in /usr/local/lib/python3.10/dist-packages (from inltk) (6.0.1)\n",
            "Requirement already satisfied: requests in /usr/local/lib/python3.10/dist-packages (from inltk) (2.31.0)\n",
            "Requirement already satisfied: scipy in /usr/local/lib/python3.10/dist-packages (from inltk) (1.11.4)\n",
            "Requirement already satisfied: spacy>=2.0.18 in /usr/local/lib/python3.10/dist-packages (from inltk) (3.7.5)\n",
            "Requirement already satisfied: typing in /usr/local/lib/python3.10/dist-packages (from inltk) (3.7.4.3)\n",
            "Requirement already satisfied: fastai==1.0.57 in /usr/local/lib/python3.10/dist-packages (from inltk) (1.0.57)\n",
            "Requirement already satisfied: sentencepiece in /usr/local/lib/python3.10/dist-packages (from inltk) (0.1.99)\n",
            "Requirement already satisfied: torch>=1.0.0 in /usr/local/lib/python3.10/dist-packages (from fastai==1.0.57->inltk) (2.3.1+cpu)\n",
            "Requirement already satisfied: torchvision in /usr/local/lib/python3.10/dist-packages (from fastai==1.0.57->inltk) (0.18.1+cu121)\n",
            "Requirement already satisfied: aiosignal>=1.1.2 in /usr/local/lib/python3.10/dist-packages (from aiohttp>=3.5.4->inltk) (1.3.1)\n",
            "Requirement already satisfied: attrs>=17.3.0 in /usr/local/lib/python3.10/dist-packages (from aiohttp>=3.5.4->inltk) (23.2.0)\n",
            "Requirement already satisfied: frozenlist>=1.1.1 in /usr/local/lib/python3.10/dist-packages (from aiohttp>=3.5.4->inltk) (1.4.1)\n",
            "Requirement already satisfied: multidict<7.0,>=4.5 in /usr/local/lib/python3.10/dist-packages (from aiohttp>=3.5.4->inltk) (6.0.5)\n",
            "Requirement already satisfied: yarl<2.0,>=1.0 in /usr/local/lib/python3.10/dist-packages (from aiohttp>=3.5.4->inltk) (1.9.4)\n",
            "Requirement already satisfied: spacy-legacy<3.1.0,>=3.0.11 in /usr/local/lib/python3.10/dist-packages (from spacy>=2.0.18->inltk) (3.0.12)\n",
            "Requirement already satisfied: spacy-loggers<2.0.0,>=1.0.0 in /usr/local/lib/python3.10/dist-packages (from spacy>=2.0.18->inltk) (1.0.5)\n",
            "Requirement already satisfied: murmurhash<1.1.0,>=0.28.0 in /usr/local/lib/python3.10/dist-packages (from spacy>=2.0.18->inltk) (1.0.10)\n",
            "Requirement already satisfied: cymem<2.1.0,>=2.0.2 in /usr/local/lib/python3.10/dist-packages (from spacy>=2.0.18->inltk) (2.0.8)\n",
            "Requirement already satisfied: preshed<3.1.0,>=3.0.2 in /usr/local/lib/python3.10/dist-packages (from spacy>=2.0.18->inltk) (3.0.9)\n",
            "Requirement already satisfied: thinc<8.3.0,>=8.2.2 in /usr/local/lib/python3.10/dist-packages (from spacy>=2.0.18->inltk) (8.2.5)\n",
            "Requirement already satisfied: wasabi<1.2.0,>=0.9.1 in /usr/local/lib/python3.10/dist-packages (from spacy>=2.0.18->inltk) (1.1.3)\n",
            "Requirement already satisfied: srsly<3.0.0,>=2.4.3 in /usr/local/lib/python3.10/dist-packages (from spacy>=2.0.18->inltk) (2.4.8)\n",
            "Requirement already satisfied: catalogue<2.1.0,>=2.0.6 in /usr/local/lib/python3.10/dist-packages (from spacy>=2.0.18->inltk) (2.0.10)\n",
            "Requirement already satisfied: weasel<0.5.0,>=0.1.0 in /usr/local/lib/python3.10/dist-packages (from spacy>=2.0.18->inltk) (0.4.1)\n",
            "Requirement already satisfied: typer<1.0.0,>=0.3.0 in /usr/local/lib/python3.10/dist-packages (from spacy>=2.0.18->inltk) (0.12.3)\n",
            "Requirement already satisfied: tqdm<5.0.0,>=4.38.0 in /usr/local/lib/python3.10/dist-packages (from spacy>=2.0.18->inltk) (4.66.4)\n",
            "Requirement already satisfied: pydantic!=1.8,!=1.8.1,<3.0.0,>=1.7.4 in /usr/local/lib/python3.10/dist-packages (from spacy>=2.0.18->inltk) (2.8.2)\n",
            "Requirement already satisfied: jinja2 in /usr/local/lib/python3.10/dist-packages (from spacy>=2.0.18->inltk) (3.1.4)\n",
            "Requirement already satisfied: setuptools in /usr/local/lib/python3.10/dist-packages (from spacy>=2.0.18->inltk) (67.7.2)\n",
            "Requirement already satisfied: langcodes<4.0.0,>=3.2.0 in /usr/local/lib/python3.10/dist-packages (from spacy>=2.0.18->inltk) (3.4.0)\n",
            "Requirement already satisfied: charset-normalizer<4,>=2 in /usr/local/lib/python3.10/dist-packages (from requests->inltk) (3.3.2)\n",
            "Requirement already satisfied: idna<4,>=2.5 in /usr/local/lib/python3.10/dist-packages (from requests->inltk) (3.7)\n",
            "Requirement already satisfied: urllib3<3,>=1.21.1 in /usr/local/lib/python3.10/dist-packages (from requests->inltk) (2.0.7)\n",
            "Requirement already satisfied: certifi>=2017.4.17 in /usr/local/lib/python3.10/dist-packages (from requests->inltk) (2024.7.4)\n",
            "Requirement already satisfied: soupsieve>1.2 in /usr/local/lib/python3.10/dist-packages (from beautifulsoup4->inltk) (2.5)\n",
            "Requirement already satisfied: contourpy>=1.0.1 in /usr/local/lib/python3.10/dist-packages (from matplotlib->inltk) (1.2.1)\n",
            "Requirement already satisfied: cycler>=0.10 in /usr/local/lib/python3.10/dist-packages (from matplotlib->inltk) (0.12.1)\n",
            "Requirement already satisfied: fonttools>=4.22.0 in /usr/local/lib/python3.10/dist-packages (from matplotlib->inltk) (4.53.1)\n",
            "Requirement already satisfied: kiwisolver>=1.0.1 in /usr/local/lib/python3.10/dist-packages (from matplotlib->inltk) (1.4.5)\n",
            "Requirement already satisfied: pyparsing>=2.3.1 in /usr/local/lib/python3.10/dist-packages (from matplotlib->inltk) (3.1.2)\n",
            "Requirement already satisfied: python-dateutil>=2.7 in /usr/local/lib/python3.10/dist-packages (from matplotlib->inltk) (2.8.2)\n",
            "Requirement already satisfied: pytz>=2020.1 in /usr/local/lib/python3.10/dist-packages (from pandas->inltk) (2023.4)\n",
            "Requirement already satisfied: tzdata>=2022.1 in /usr/local/lib/python3.10/dist-packages (from pandas->inltk) (2024.1)\n",
            "Requirement already satisfied: language-data>=1.2 in /usr/local/lib/python3.10/dist-packages (from langcodes<4.0.0,>=3.2.0->spacy>=2.0.18->inltk) (1.2.0)\n",
            "Requirement already satisfied: annotated-types>=0.4.0 in /usr/local/lib/python3.10/dist-packages (from pydantic!=1.8,!=1.8.1,<3.0.0,>=1.7.4->spacy>=2.0.18->inltk) (0.7.0)\n",
            "Requirement already satisfied: pydantic-core==2.20.1 in /usr/local/lib/python3.10/dist-packages (from pydantic!=1.8,!=1.8.1,<3.0.0,>=1.7.4->spacy>=2.0.18->inltk) (2.20.1)\n",
            "Requirement already satisfied: typing-extensions>=4.6.1 in /usr/local/lib/python3.10/dist-packages (from pydantic!=1.8,!=1.8.1,<3.0.0,>=1.7.4->spacy>=2.0.18->inltk) (4.12.2)\n",
            "Requirement already satisfied: six>=1.5 in /usr/local/lib/python3.10/dist-packages (from python-dateutil>=2.7->matplotlib->inltk) (1.16.0)\n",
            "Requirement already satisfied: blis<0.8.0,>=0.7.8 in /usr/local/lib/python3.10/dist-packages (from thinc<8.3.0,>=8.2.2->spacy>=2.0.18->inltk) (0.7.11)\n",
            "Requirement already satisfied: confection<1.0.0,>=0.0.1 in /usr/local/lib/python3.10/dist-packages (from thinc<8.3.0,>=8.2.2->spacy>=2.0.18->inltk) (0.1.5)\n",
            "Requirement already satisfied: filelock in /usr/local/lib/python3.10/dist-packages (from torch>=1.0.0->fastai==1.0.57->inltk) (3.15.4)\n",
            "Requirement already satisfied: sympy in /usr/local/lib/python3.10/dist-packages (from torch>=1.0.0->fastai==1.0.57->inltk) (1.13.0)\n",
            "Requirement already satisfied: networkx in /usr/local/lib/python3.10/dist-packages (from torch>=1.0.0->fastai==1.0.57->inltk) (3.3)\n",
            "Requirement already satisfied: fsspec in /usr/local/lib/python3.10/dist-packages (from torch>=1.0.0->fastai==1.0.57->inltk) (2023.6.0)\n",
            "Requirement already satisfied: click>=8.0.0 in /usr/local/lib/python3.10/dist-packages (from typer<1.0.0,>=0.3.0->spacy>=2.0.18->inltk) (8.1.7)\n",
            "Requirement already satisfied: shellingham>=1.3.0 in /usr/local/lib/python3.10/dist-packages (from typer<1.0.0,>=0.3.0->spacy>=2.0.18->inltk) (1.5.4)\n",
            "Requirement already satisfied: rich>=10.11.0 in /usr/local/lib/python3.10/dist-packages (from typer<1.0.0,>=0.3.0->spacy>=2.0.18->inltk) (13.7.1)\n",
            "Requirement already satisfied: cloudpathlib<1.0.0,>=0.7.0 in /usr/local/lib/python3.10/dist-packages (from weasel<0.5.0,>=0.1.0->spacy>=2.0.18->inltk) (0.18.1)\n",
            "Requirement already satisfied: smart-open<8.0.0,>=5.2.1 in /usr/local/lib/python3.10/dist-packages (from weasel<0.5.0,>=0.1.0->spacy>=2.0.18->inltk) (7.0.4)\n",
            "Requirement already satisfied: MarkupSafe>=2.0 in /usr/local/lib/python3.10/dist-packages (from jinja2->spacy>=2.0.18->inltk) (2.1.5)\n",
            "Requirement already satisfied: marisa-trie>=0.7.7 in /usr/local/lib/python3.10/dist-packages (from language-data>=1.2->langcodes<4.0.0,>=3.2.0->spacy>=2.0.18->inltk) (1.2.0)\n",
            "Requirement already satisfied: markdown-it-py>=2.2.0 in /usr/local/lib/python3.10/dist-packages (from rich>=10.11.0->typer<1.0.0,>=0.3.0->spacy>=2.0.18->inltk) (3.0.0)\n",
            "Requirement already satisfied: pygments<3.0.0,>=2.13.0 in /usr/local/lib/python3.10/dist-packages (from rich>=10.11.0->typer<1.0.0,>=0.3.0->spacy>=2.0.18->inltk) (2.16.1)\n",
            "Requirement already satisfied: wrapt in /usr/local/lib/python3.10/dist-packages (from smart-open<8.0.0,>=5.2.1->weasel<0.5.0,>=0.1.0->spacy>=2.0.18->inltk) (1.14.1)\n",
            "Requirement already satisfied: mpmath<1.4,>=1.1.0 in /usr/local/lib/python3.10/dist-packages (from sympy->torch>=1.0.0->fastai==1.0.57->inltk) (1.3.0)\n",
            "Requirement already satisfied: mdurl~=0.1 in /usr/local/lib/python3.10/dist-packages (from markdown-it-py>=2.2.0->rich>=10.11.0->typer<1.0.0,>=0.3.0->spacy>=2.0.18->inltk) (0.1.2)\n"
          ]
        }
      ]
    },
    {
      "cell_type": "code",
      "source": [
        "!pip install nest_asyncio\n"
      ],
      "metadata": {
        "colab": {
          "base_uri": "https://localhost:8080/"
        },
        "id": "LqEhZendfoJX",
        "outputId": "655170ac-a113-46f2-c64c-3a43ddd1ca43"
      },
      "execution_count": 16,
      "outputs": [
        {
          "output_type": "stream",
          "name": "stdout",
          "text": [
            "Requirement already satisfied: nest_asyncio in /usr/local/lib/python3.10/dist-packages (1.6.0)\n"
          ]
        }
      ]
    },
    {
      "cell_type": "code",
      "source": [
        "import nest_asyncio\n",
        "import collections\n",
        "import asyncio\n",
        "from concurrent.futures import ThreadPoolExecutor\n",
        "\n",
        "# Apply the nest_asyncio to allow nesting of event loops\n",
        "nest_asyncio.apply()\n",
        "\n",
        "# Patch for inltk to work with Python 3.10\n",
        "if not hasattr(collections, 'Iterable'):\n",
        "    import collections.abc\n",
        "    collections.Iterable = collections.abc.Iterable\n",
        "\n",
        "# Import inltk and the setup function\n",
        "from inltk.inltk import setup\n",
        "\n",
        "# Define a function to run setup in a separate thread\n",
        "def run_setup():\n",
        "    loop = asyncio.new_event_loop()\n",
        "    asyncio.set_event_loop(loop)\n",
        "    setup('te')\n",
        "\n",
        "# Use ThreadPoolExecutor to run the setup function in a separate thread\n",
        "executor = ThreadPoolExecutor(max_workers=1)\n",
        "executor.submit(run_setup).result()\n",
        "\n",
        "# Close the executor\n",
        "executor.shutdown()\n"
      ],
      "metadata": {
        "colab": {
          "base_uri": "https://localhost:8080/"
        },
        "id": "kKyuk65marBD",
        "outputId": "1eb873cd-f766-4228-cb86-b6322f5fcece"
      },
      "execution_count": 20,
      "outputs": [
        {
          "output_type": "stream",
          "name": "stdout",
          "text": [
            "Downloading Model. This might take time, depending on your internet connection. Please be patient.\n",
            "We'll only do this for the first time.\n",
            "Downloading Model. This might take time, depending on your internet connection. Please be patient.\n",
            "We'll only do this for the first time.\n",
            "Done!\n"
          ]
        }
      ]
    },
    {
      "cell_type": "code",
      "source": [
        "from inltk.inltk import tokenize\n",
        "\n",
        "telugu_text = \"\"\" ఏళ్ళ వయస్సులో గద్దె నెక్కాడు. తన పాలనాకాలంలో ఎక్కువ భాగం పశ్చిమ ఆసియా, ఈశాన్య ఆఫ్రికాల్లో మున్నెన్నడూ ఎరగని సైనిక దండయాత్ర లోనే గడిపాడు. ముప్పై సంవత్సరాల వయస్సు నాటికే, గ్రీస్ నుండి వాయవ్య భారతదేశం వరకు విస్తరించిన, పురాతన ప్రపంచంలోని అతిపెద్ద సామ్రాజ్యాలలో ఒకదాన్ని సృష్టించాడు. అతను యుద్ధంలో అజేయంగా నిలిచాడు. చరిత్రలో అత్యంత విజయవంతమైన సేనాధిపతుల్లో ఒకరిగా అతన్ని పరిగణిస్తారు. అలెగ్జాండర్‌ 16 సంవత్సరాల వయస్సు వచ్చే వరకు అరిస్టాటిల్ వద్ద విద్య అభ్యసించాడు. సా.పూ 336 లో ఫిలిప్ హత్య తరువాత, అతను సింహాసనం ఎక్కాడు. బలమైన రాజ్యాన్ని, అనుభవంగల సైన్యాన్నీ వారసత్వంగా పొందాడు. అలెగ్జాండర్‌కు గ్రీస్ సర్వసైన్యాధిపత్యం లభించింది. తన తండ్రి తలపెట్టి, మొదలుపెట్టలేక పోయిన పాన్-హెలెనిక్ ప్రాజెక్టును ప్రారంభించి, పర్షియాను ఆక్రమించడానికి ఈ అధికారాన్ని ఉపయోగించాడు.\"\"\"\n",
        "\n",
        "# tokenize(input text, language code)\n",
        "tokenize(hindi_text, \"te\")"
      ],
      "metadata": {
        "colab": {
          "base_uri": "https://localhost:8080/"
        },
        "id": "BUECU_6wbK0Q",
        "outputId": "d6b39a78-28e7-4da0-f3de-bacdcb96cc6a"
      },
      "execution_count": 26,
      "outputs": [
        {
          "output_type": "execute_result",
          "data": {
            "text/plain": [
              "['▁ఏళ్ళ',\n",
              " '▁వయస్సులో',\n",
              " '▁గద్దె',\n",
              " '▁నె',\n",
              " 'క్క',\n",
              " 'ాడు',\n",
              " '.',\n",
              " '▁తన',\n",
              " '▁పాలనా',\n",
              " 'కాలంలో',\n",
              " '▁ఎక్కువ',\n",
              " '▁భాగం',\n",
              " '▁పశ్చిమ',\n",
              " '▁ఆసియా',\n",
              " ',',\n",
              " '▁ఈశాన్య',\n",
              " '▁ఆఫ్రికా',\n",
              " 'ల్లో',\n",
              " '▁ము',\n",
              " 'న్నె',\n",
              " 'న్న',\n",
              " 'డూ',\n",
              " '▁ఎ',\n",
              " 'రగ',\n",
              " 'ని',\n",
              " '▁సైనిక',\n",
              " '▁దండయాత్ర',\n",
              " '▁లోనే',\n",
              " '▁గడిపాడు',\n",
              " '.',\n",
              " '▁ముప్పై',\n",
              " '▁సంవత్సరాల',\n",
              " '▁వయస్సు',\n",
              " '▁నాటికే',\n",
              " ',',\n",
              " '▁గ్రీస్',\n",
              " '▁నుండి',\n",
              " '▁వాయవ్య',\n",
              " '▁భారతదేశం',\n",
              " '▁వరకు',\n",
              " '▁విస్తరించిన',\n",
              " ',',\n",
              " '▁పురాతన',\n",
              " '▁ప్రపంచంలోని',\n",
              " '▁అతిపెద్ద',\n",
              " '▁సామ్రాజ్యాల',\n",
              " 'లో',\n",
              " '▁ఒక',\n",
              " 'దాన్ని',\n",
              " '▁సృష్టించాడు',\n",
              " '.',\n",
              " '▁అతను',\n",
              " '▁యుద్ధంలో',\n",
              " '▁అ',\n",
              " 'జేయ',\n",
              " 'ంగా',\n",
              " '▁నిలిచాడు',\n",
              " '.',\n",
              " '▁చరిత్రలో',\n",
              " '▁అత్యంత',\n",
              " '▁విజయవంతమైన',\n",
              " '▁సేన',\n",
              " 'ాధిపతుల',\n",
              " '్లో',\n",
              " '▁ఒకరిగా',\n",
              " '▁అతన్ని',\n",
              " '▁పరిగణిస్తారు',\n",
              " '.',\n",
              " '▁అలెగ్జాండర్',\n",
              " '▁16',\n",
              " '▁సంవత్సరాల',\n",
              " '▁వయస్సు',\n",
              " '▁వచ్చే',\n",
              " '▁వరకు',\n",
              " '▁అరిస్టాటిల్',\n",
              " '▁వద్ద',\n",
              " '▁విద్య',\n",
              " '▁అభ్యసించాడు',\n",
              " '.',\n",
              " '▁సా',\n",
              " '.',\n",
              " 'పూ',\n",
              " '▁3',\n",
              " '36',\n",
              " '▁లో',\n",
              " '▁ఫిలిప్',\n",
              " '▁హత్య',\n",
              " '▁తరువాత',\n",
              " ',',\n",
              " '▁అతను',\n",
              " '▁సింహాసనం',\n",
              " '▁ఎక్క',\n",
              " 'ాడు',\n",
              " '.',\n",
              " '▁బలమైన',\n",
              " '▁రాజ్యాన్ని',\n",
              " ',',\n",
              " '▁అనుభవం',\n",
              " 'గల',\n",
              " '▁సైన్య',\n",
              " 'ాన్నీ',\n",
              " '▁వారసత్వంగా',\n",
              " '▁పొందాడు',\n",
              " '.',\n",
              " '▁అలెగ్జాండర్',\n",
              " '▁కు',\n",
              " '▁గ్రీస్',\n",
              " '▁సర్వ',\n",
              " 'సైన్య',\n",
              " 'ాధిపత్యం',\n",
              " '▁లభించింది',\n",
              " '.',\n",
              " '▁తన',\n",
              " '▁తండ్రి',\n",
              " '▁తల',\n",
              " 'పెట్టి',\n",
              " ',',\n",
              " '▁మొదలుపెట్ట',\n",
              " 'లేక',\n",
              " '▁పోయిన',\n",
              " '▁పాన్',\n",
              " '-',\n",
              " 'హె',\n",
              " 'లె',\n",
              " 'నిక్',\n",
              " '▁ప్రాజెక్టు',\n",
              " 'ను',\n",
              " '▁ప్రారంభించి',\n",
              " ',',\n",
              " '▁పర్షియా',\n",
              " 'ను',\n",
              " '▁ఆక్రమించ',\n",
              " 'డానికి',\n",
              " '▁ఈ',\n",
              " '▁అధికారాన్ని',\n",
              " '▁ఉపయోగించాడు',\n",
              " '.']"
            ]
          },
          "metadata": {},
          "execution_count": 26
        }
      ]
    },
    {
      "cell_type": "code",
      "source": [
        "import nest_asyncio\n",
        "import collections\n",
        "import asyncio\n",
        "from concurrent.futures import ThreadPoolExecutor\n",
        "\n",
        "# Apply the nest_asyncio to allow nesting of event loops\n",
        "nest_asyncio.apply()\n",
        "\n",
        "# Patch for inltk to work with Python 3.10\n",
        "if not hasattr(collections, 'Iterable'):\n",
        "    import collections.abc\n",
        "    collections.Iterable = collections.abc.Iterable\n",
        "\n",
        "# Import inltk and the setup function\n",
        "from inltk.inltk import setup\n",
        "\n",
        "# Define a function to run setup in a separate thread\n",
        "def run_setup(lang):\n",
        "    loop = asyncio.new_event_loop()\n",
        "    asyncio.set_event_loop(loop)\n",
        "    setup(lang)\n",
        "\n",
        "# Use ThreadPoolExecutor to run the setup function in a separate thread for Hindi and Telugu\n",
        "executor = ThreadPoolExecutor(max_workers=2)\n",
        "executor.submit(run_setup, 'te').result()\n",
        "executor.submit(run_setup, 'te').result()\n",
        "\n",
        "# Close the executor\n",
        "executor.shutdown()\n"
      ],
      "metadata": {
        "colab": {
          "base_uri": "https://localhost:8080/"
        },
        "id": "FBgLZPXXdWXd",
        "outputId": "d039b027-1d81-491e-a228-76dc3b0b9e28"
      },
      "execution_count": 24,
      "outputs": [
        {
          "output_type": "stream",
          "name": "stdout",
          "text": [
            "Done!\n",
            "Done!\n"
          ]
        }
      ]
    },
    {
      "cell_type": "code",
      "source": [
        "import nest_asyncio\n",
        "import collections\n",
        "import asyncio\n",
        "from concurrent.futures import ThreadPoolExecutor\n",
        "\n",
        "# Apply nest_asyncio to allow nesting of event loops\n",
        "nest_asyncio.apply()\n",
        "\n",
        "# Patch for inltk to work with Python 3.10\n",
        "if not hasattr(collections, 'Sized'):\n",
        "    import collections.abc\n",
        "    collections.Sized = collections.abc.Sized\n",
        "\n",
        "# Import inltk and the setup function\n",
        "from inltk.inltk import setup\n",
        "\n",
        "# Define a function to run setup in a separate thread\n",
        "def run_setup(lang):\n",
        "    loop = asyncio.new_event_loop()\n",
        "    asyncio.set_event_loop(loop)\n",
        "    setup(lang)\n",
        "\n",
        "# Use ThreadPoolExecutor to run the setup function in a separate thread for Telugu\n",
        "executor = ThreadPoolExecutor(max_workers=1)\n",
        "executor.submit(run_setup, 'te').result()\n",
        "\n",
        "# Close the executor\n",
        "executor.shutdown()\n"
      ],
      "metadata": {
        "colab": {
          "base_uri": "https://localhost:8080/"
        },
        "id": "yx98RNfLy0WJ",
        "outputId": "eba47d41-d46e-452c-89a4-91ab32765f14"
      },
      "execution_count": 29,
      "outputs": [
        {
          "output_type": "stream",
          "name": "stdout",
          "text": [
            "Done!\n"
          ]
        }
      ]
    },
    {
      "cell_type": "code",
      "source": [
        "from inltk.inltk import get_embedding_vectors\n",
        "\n",
        "vectors = get_embedding_vectors(telugu_text, 'te')"
      ],
      "metadata": {
        "colab": {
          "base_uri": "https://localhost:8080/",
          "height": 17
        },
        "id": "qNmCM30Mpzt6",
        "outputId": "ca8dcce8-7135-4c3b-bd9f-66ef0b2d5352"
      },
      "execution_count": 30,
      "outputs": [
        {
          "output_type": "display_data",
          "data": {
            "text/plain": [
              "<IPython.core.display.HTML object>"
            ],
            "text/html": [
              "\n",
              "<style>\n",
              "    /* Turns off some styling */\n",
              "    progress {\n",
              "        /* gets rid of default border in Firefox and Opera. */\n",
              "        border: none;\n",
              "        /* Needs to be in here for Safari polyfill so background images work as expected. */\n",
              "        background-size: auto;\n",
              "    }\n",
              "    progress:not([value]), progress:not([value])::-webkit-progress-bar {\n",
              "        background: repeating-linear-gradient(45deg, #7e7e7e, #7e7e7e 10px, #5c5c5c 10px, #5c5c5c 20px);\n",
              "    }\n",
              "    .progress-bar-interrupted, .progress-bar-interrupted::-webkit-progress-bar {\n",
              "        background: #F44336;\n",
              "    }\n",
              "</style>\n"
            ]
          },
          "metadata": {}
        },
        {
          "output_type": "display_data",
          "data": {
            "text/plain": [
              "<IPython.core.display.HTML object>"
            ],
            "text/html": []
          },
          "metadata": {}
        },
        {
          "output_type": "display_data",
          "data": {
            "text/plain": [
              "<IPython.core.display.HTML object>"
            ],
            "text/html": [
              "\n",
              "<style>\n",
              "    /* Turns off some styling */\n",
              "    progress {\n",
              "        /* gets rid of default border in Firefox and Opera. */\n",
              "        border: none;\n",
              "        /* Needs to be in here for Safari polyfill so background images work as expected. */\n",
              "        background-size: auto;\n",
              "    }\n",
              "    progress:not([value]), progress:not([value])::-webkit-progress-bar {\n",
              "        background: repeating-linear-gradient(45deg, #7e7e7e, #7e7e7e 10px, #5c5c5c 10px, #5c5c5c 20px);\n",
              "    }\n",
              "    .progress-bar-interrupted, .progress-bar-interrupted::-webkit-progress-bar {\n",
              "        background: #F44336;\n",
              "    }\n",
              "</style>\n"
            ]
          },
          "metadata": {}
        },
        {
          "output_type": "display_data",
          "data": {
            "text/plain": [
              "<IPython.core.display.HTML object>"
            ],
            "text/html": []
          },
          "metadata": {}
        }
      ]
    },
    {
      "cell_type": "code",
      "source": [
        "vectors"
      ],
      "metadata": {
        "colab": {
          "base_uri": "https://localhost:8080/"
        },
        "id": "CE_M1_Kky2Ua",
        "outputId": "e7098f0e-ffb0-4d95-d826-ec382ff314ab"
      },
      "execution_count": 31,
      "outputs": [
        {
          "output_type": "execute_result",
          "data": {
            "text/plain": [
              "[array([ 0.118539, -0.231999, -0.113829, -0.082277, ..., -0.046054,  0.147202, -0.098554,  0.082662], dtype=float32),\n",
              " array([ 0.016471, -0.099307,  0.119358,  0.00501 , ..., -0.003194,  0.086803,  0.101685, -0.036668], dtype=float32),\n",
              " array([-0.020547, -0.077961, -0.131776,  0.089729, ..., -0.055219, -0.020255, -0.021535, -0.013551], dtype=float32),\n",
              " array([ 0.066331,  0.034478,  0.064582,  0.027809, ...,  0.011288, -0.075349, -0.017159, -0.036531], dtype=float32),\n",
              " array([ 0.107894, -0.205356,  0.039795,  0.067916, ..., -0.049686, -0.044448, -0.095413, -0.017411], dtype=float32),\n",
              " array([ 0.144239, -0.055852,  0.215159,  0.318129, ..., -0.013692,  0.119321, -0.212985,  0.059699], dtype=float32),\n",
              " array([ 0.242197,  0.227901,  0.124662, -0.27727 , ...,  0.314803, -0.17433 ,  0.278329,  0.182786], dtype=float32),\n",
              " array([ 0.287298,  0.051568,  0.043172,  0.115851, ...,  0.148276, -0.128211,  0.107505,  0.103582], dtype=float32),\n",
              " array([ 0.00424 ,  0.002706,  0.098056, -0.038045, ..., -0.044929, -0.107447,  0.074309, -0.001298], dtype=float32),\n",
              " array([ 0.058432, -0.137619,  0.064125,  0.076393, ..., -0.193455, -0.095189, -0.216546, -0.194118], dtype=float32),\n",
              " array([-0.244374,  0.001322, -0.01991 ,  0.386686, ..., -0.020197, -0.170025, -0.112682, -0.008562], dtype=float32),\n",
              " array([-0.009103, -0.09894 , -0.030086,  0.109823, ...,  0.040566, -0.162854,  0.079757,  0.066498], dtype=float32),\n",
              " array([ 0.104119,  0.0842  ,  0.155114,  0.003642, ..., -0.026861, -0.109084,  0.154852,  0.060905], dtype=float32),\n",
              " array([-0.022906, -0.119362,  0.08802 ,  0.145777, ..., -0.033876,  0.02003 , -0.024887, -0.189666], dtype=float32),\n",
              " array([-0.35086 ,  0.20958 ,  0.249544, -0.309201, ...,  0.277038, -0.069104,  0.260537,  0.222542], dtype=float32),\n",
              " array([ 0.000207,  0.008167,  0.063319,  0.090901, ...,  0.004263, -0.068725,  0.065381,  0.029011], dtype=float32),\n",
              " array([-0.018244, -0.107211,  0.067715,  0.084352, ..., -0.05362 ,  0.063935, -0.019467, -0.127927], dtype=float32),\n",
              " array([-0.132463, -0.054058, -0.184114, -0.079889, ...,  0.186703, -0.173307, -0.068199, -0.036854], dtype=float32),\n",
              " array([ 0.009678,  0.017641, -0.052892,  0.045988, ...,  0.039587, -0.172565,  0.090069, -0.075607], dtype=float32),\n",
              " array([-0.036118, -0.292518, -0.082636,  0.090598, ..., -0.153903,  0.067023, -0.055402, -0.035258], dtype=float32),\n",
              " array([-0.106499,  0.106773,  0.024726, -0.116854, ..., -0.1514  ,  0.039547, -0.070682, -0.136348], dtype=float32),\n",
              " array([-0.121638, -0.104629,  0.005744,  0.009238, ..., -0.051821,  0.006355,  0.099025,  0.075529], dtype=float32),\n",
              " array([ 0.073978, -0.031179, -0.083172, -0.034375, ...,  0.052356, -0.09986 ,  0.150018,  0.022183], dtype=float32),\n",
              " array([-0.042585, -0.098258,  0.017894,  0.154037, ..., -0.030012, -0.067784,  0.034356,  0.106735], dtype=float32),\n",
              " array([ 0.021968, -0.006118,  0.116502, -0.332452, ...,  0.237711,  0.071962, -0.124667,  0.347788], dtype=float32),\n",
              " array([-0.024441,  0.108892,  0.111848,  0.060191, ...,  0.114816, -0.130305, -0.010326, -0.077445], dtype=float32),\n",
              " array([-0.129933, -0.116224, -0.036051,  0.119677, ..., -0.171933, -0.000769, -0.090551,  0.030022], dtype=float32),\n",
              " array([ 0.180311,  0.040791, -0.168315,  0.085475, ...,  0.081664, -0.004534,  0.21576 ,  0.069911], dtype=float32),\n",
              " array([-0.063343, -0.077852, -0.060801,  0.155543, ...,  0.02382 ,  0.104187, -0.069026,  0.031698], dtype=float32),\n",
              " array([ 0.242197,  0.227901,  0.124662, -0.27727 , ...,  0.314803, -0.17433 ,  0.278329,  0.182786], dtype=float32),\n",
              " array([ 0.040641, -0.034005, -0.000726,  0.058142, ..., -0.00913 ,  0.007269,  0.039285, -0.069127], dtype=float32),\n",
              " array([ 0.179668, -0.132374,  0.022671, -0.166268, ..., -0.048294, -0.010499,  0.129436,  0.063664], dtype=float32),\n",
              " array([ 0.023243, -0.07152 ,  0.156371, -0.067463, ...,  0.024215, -0.008542,  0.107691,  0.053808], dtype=float32),\n",
              " array([-0.029517, -0.113354, -0.056436,  0.052182, ..., -0.081829,  0.124178, -0.045536, -0.053247], dtype=float32),\n",
              " array([-0.35086 ,  0.20958 ,  0.249544, -0.309201, ...,  0.277038, -0.069104,  0.260537,  0.222542], dtype=float32),\n",
              " array([ 0.048079, -0.150735, -0.040293,  0.069227, ..., -0.000278,  0.088935,  0.010214, -0.014814], dtype=float32),\n",
              " array([-0.315287,  0.18861 , -0.112433, -0.327457, ...,  0.454971, -0.10238 ,  0.140931,  0.355072], dtype=float32),\n",
              " array([ 0.015264, -0.03282 ,  0.042087,  0.047189, ..., -0.026146, -0.051104,  0.090286, -0.079934], dtype=float32),\n",
              " array([ 0.16264 ,  0.0597  , -0.090796,  0.138166, ...,  0.134741,  0.056866,  0.079042, -0.169195], dtype=float32),\n",
              " array([ 0.12821 ,  0.099905,  0.12135 ,  0.178293, ...,  0.105502,  0.039849, -0.069186,  0.114947], dtype=float32),\n",
              " array([-0.104544, -0.004532,  0.059253,  0.063995, ...,  0.113483,  0.000915, -0.002989,  0.067337], dtype=float32),\n",
              " array([-0.35086 ,  0.20958 ,  0.249544, -0.309201, ...,  0.277038, -0.069104,  0.260537,  0.222542], dtype=float32),\n",
              " array([ 0.065301, -0.000698,  0.034056, -0.015203, ..., -0.089669, -0.183265,  0.002575, -0.135242], dtype=float32),\n",
              " array([ 0.017896,  0.002691, -0.020153,  0.012775, ...,  0.035483, -0.05326 , -0.048125, -0.03806 ], dtype=float32),\n",
              " array([-0.035903, -0.094261,  0.115507,  0.106709, ...,  0.015215, -0.145701, -0.109885,  0.04755 ], dtype=float32),\n",
              " array([-0.02875 , -0.139534,  0.017033,  0.083316, ..., -0.138241, -0.022479, -0.020738, -0.118278], dtype=float32),\n",
              " array([ 0.204863,  0.126814,  0.173277,  0.033849, ...,  0.234401, -0.070756, -0.337913,  0.309566], dtype=float32),\n",
              " array([ 0.09393 ,  0.197975,  0.226497,  0.138583, ...,  0.127683, -0.1992  , -0.092534, -0.091418], dtype=float32),\n",
              " array([-0.053629, -0.019593,  0.039729,  0.150353, ..., -0.155727,  0.048417, -0.016659, -0.030908], dtype=float32),\n",
              " array([-0.076776, -0.001597, -0.195379,  0.222057, ...,  0.090253, -0.002105, -0.228055,  0.075603], dtype=float32),\n",
              " array([ 0.242197,  0.227901,  0.124662, -0.27727 , ...,  0.314803, -0.17433 ,  0.278329,  0.182786], dtype=float32),\n",
              " array([ 0.116644,  0.049484,  0.05672 ,  0.218941, ...,  0.274137,  0.037057,  0.174496, -0.107225], dtype=float32),\n",
              " array([-0.063108, -0.013422,  0.031979,  0.106443, ..., -0.033782, -0.113393, -0.196979, -0.075604], dtype=float32),\n",
              " array([ 0.009964,  0.05888 ,  0.14435 , -0.16664 , ...,  0.137088, -0.117819,  0.165247, -0.002792], dtype=float32),\n",
              " array([-0.13372 , -0.048512,  0.11351 ,  0.16403 , ...,  0.040553,  0.109198, -0.086619,  0.013175], dtype=float32),\n",
              " array([ 0.12605 , -0.039076,  0.057072,  0.039909, ..., -0.001016, -0.159183, -0.097159, -0.19864 ], dtype=float32),\n",
              " array([-0.143924, -0.066524, -0.105358,  0.125046, ...,  0.04865 , -0.000726, -0.064299, -0.022634], dtype=float32),\n",
              " array([ 0.242197,  0.227901,  0.124662, -0.27727 , ...,  0.314803, -0.17433 ,  0.278329,  0.182786], dtype=float32),\n",
              " array([-0.006997, -0.092412, -0.100439,  0.004635, ..., -0.001297, -0.047578,  0.005342, -0.013576], dtype=float32),\n",
              " array([ 0.027166, -0.077125,  0.153001,  0.091601, ...,  0.153526, -0.162154,  0.048741,  0.070489], dtype=float32),\n",
              " array([-0.164701, -0.097148,  0.037602, -0.012031, ...,  0.047921, -0.026267, -0.059303, -0.048743], dtype=float32),\n",
              " array([-0.079775, -0.117168,  0.011325,  0.058822, ..., -0.068813, -0.011889, -0.128447, -0.034413], dtype=float32),\n",
              " array([-0.16588 ,  0.05456 , -0.013957,  0.020917, ...,  0.051836,  0.051963, -0.107141, -0.180293], dtype=float32),\n",
              " array([ 0.174712, -0.084018, -0.011126,  0.052087, ...,  0.092797,  0.113311, -0.236016,  0.234119], dtype=float32),\n",
              " array([-0.136861, -0.006742,  0.008842,  0.026697, ...,  0.063647, -0.003476, -0.038664,  0.079329], dtype=float32),\n",
              " array([-0.020271, -0.025582, -0.095351,  0.099741, ...,  0.091933, -0.021243,  0.088343, -0.074674], dtype=float32),\n",
              " array([-0.049649, -0.076306, -0.083093,  0.038746, ..., -0.055661,  0.042137,  0.053702,  0.093688], dtype=float32),\n",
              " array([ 0.242197,  0.227901,  0.124662, -0.27727 , ...,  0.314803, -0.17433 ,  0.278329,  0.182786], dtype=float32),\n",
              " array([ 0.025335, -0.032766, -0.040248,  0.013353, ..., -0.004596,  0.047266, -0.003588, -0.203806], dtype=float32),\n",
              " array([-0.015374,  0.110946,  0.168286,  0.114413, ..., -0.157887, -0.131106,  0.012803,  0.058331], dtype=float32),\n",
              " array([ 0.179668, -0.132374,  0.022671, -0.166268, ..., -0.048294, -0.010499,  0.129436,  0.063664], dtype=float32),\n",
              " array([ 0.023243, -0.07152 ,  0.156371, -0.067463, ...,  0.024215, -0.008542,  0.107691,  0.053808], dtype=float32),\n",
              " array([ 0.009584, -0.150472, -0.044894, -0.063061, ...,  0.016984,  0.1027  ,  0.031362,  0.091209], dtype=float32),\n",
              " array([ 0.12821 ,  0.099905,  0.12135 ,  0.178293, ...,  0.105502,  0.039849, -0.069186,  0.114947], dtype=float32),\n",
              " array([ 0.019143, -0.024409, -0.020822,  0.062037, ..., -0.004389,  0.142243, -0.055391, -0.117641], dtype=float32),\n",
              " array([-0.027186,  0.111338,  0.013116, -0.102489, ...,  0.101355, -0.113242, -0.029977,  0.153446], dtype=float32),\n",
              " array([ 0.002819,  0.149858,  0.041015,  0.0058  , ...,  0.087156,  0.055833,  0.084824, -0.177611], dtype=float32),\n",
              " array([-0.071598, -0.072196, -0.063708,  0.185206, ...,  0.10991 ,  0.233093, -0.086075, -0.057234], dtype=float32),\n",
              " array([ 0.242197,  0.227901,  0.124662, -0.27727 , ...,  0.314803, -0.17433 ,  0.278329,  0.182786], dtype=float32),\n",
              " array([-0.025744,  0.009674,  0.051887, -0.026393, ...,  0.011397, -0.137958, -0.075636,  0.038731], dtype=float32),\n",
              " array([ 0.242197,  0.227901,  0.124662, -0.27727 , ...,  0.314803, -0.17433 ,  0.278329,  0.182786], dtype=float32),\n",
              " array([ 0.065332,  0.206163,  0.009228, -0.127917, ..., -0.136231,  0.039958, -0.130729, -0.020707], dtype=float32),\n",
              " array([-0.062733,  0.182554,  0.221324, -0.059121, ...,  0.00936 , -0.058688, -0.007242,  0.150204], dtype=float32),\n",
              " array([-0.126426, -0.02801 ,  0.032592, -0.106922, ..., -0.142353,  0.085491, -0.115982,  0.096373], dtype=float32),\n",
              " array([ 0.269572,  0.282606, -0.050005, -0.100556, ...,  0.185477,  0.093362,  0.113938,  0.196261], dtype=float32),\n",
              " array([-0.073305, -0.016077, -0.091018, -0.00314 , ...,  0.001027,  0.020377, -0.007894, -0.109531], dtype=float32),\n",
              " array([-0.096054, -0.041036, -0.03415 ,  0.046655, ..., -0.043031, -0.170446, -0.007297, -0.005   ], dtype=float32),\n",
              " array([ 0.05499 ,  0.174608,  0.117415,  0.178064, ...,  0.158918, -0.064183,  0.014013, -0.064218], dtype=float32),\n",
              " array([-0.35086 ,  0.20958 ,  0.249544, -0.309201, ...,  0.277038, -0.069104,  0.260537,  0.222542], dtype=float32),\n",
              " array([ 0.116644,  0.049484,  0.05672 ,  0.218941, ...,  0.274137,  0.037057,  0.174496, -0.107225], dtype=float32),\n",
              " array([ 0.078221, -0.018098, -0.039772,  0.019466, ..., -0.008009, -0.080888, -0.014557, -0.127701], dtype=float32),\n",
              " array([-0.025174, -0.128317, -0.110623,  0.041571, ..., -0.046039, -0.013554, -0.093225,  0.163203], dtype=float32),\n",
              " array([ 0.144239, -0.055852,  0.215159,  0.318129, ..., -0.013692,  0.119321, -0.212985,  0.059699], dtype=float32),\n",
              " array([ 0.242197,  0.227901,  0.124662, -0.27727 , ...,  0.314803, -0.17433 ,  0.278329,  0.182786], dtype=float32),\n",
              " array([-0.077709,  0.065116,  0.05643 ,  0.139796, ...,  0.050545, -0.06408 ,  0.044318, -0.107996], dtype=float32),\n",
              " array([-0.035005, -0.094737,  0.04436 ,  0.067429, ..., -0.061235,  0.045723,  0.006926, -0.017707], dtype=float32),\n",
              " array([-0.35086 ,  0.20958 ,  0.249544, -0.309201, ...,  0.277038, -0.069104,  0.260537,  0.222542], dtype=float32),\n",
              " array([0.027149, 0.020618, 0.085054, 0.086487, ..., 0.084088, 0.000896, 0.031252, 0.016919], dtype=float32),\n",
              " array([-0.185451,  0.057782,  0.119388, -0.024101, ..., -0.087124, -0.057573, -0.168561,  0.056039], dtype=float32),\n",
              " array([-0.01209 , -0.100537,  0.043075,  0.083447, ...,  0.011888, -0.065755,  0.006003, -0.057993], dtype=float32),\n",
              " array([-0.053772,  0.151759, -0.130574, -0.003476, ...,  0.139781,  0.197331, -0.029194, -0.158943], dtype=float32),\n",
              " array([ 0.021444, -0.062834, -0.111953,  0.017478, ...,  0.093668,  0.101745,  0.08746 , -0.02523 ], dtype=float32),\n",
              " array([ 0.109576,  0.086234, -0.120347,  0.171573, ...,  0.073902,  0.083186, -0.066988,  0.001244], dtype=float32),\n",
              " array([ 0.242197,  0.227901,  0.124662, -0.27727 , ...,  0.314803, -0.17433 ,  0.278329,  0.182786], dtype=float32),\n",
              " array([ 0.025335, -0.032766, -0.040248,  0.013353, ..., -0.004596,  0.047266, -0.003588, -0.203806], dtype=float32),\n",
              " array([ 0.196806,  0.04978 , -0.143296, -0.111343, ...,  0.190034,  0.024799,  0.096923,  0.113942], dtype=float32),\n",
              " array([ 0.048079, -0.150735, -0.040293,  0.069227, ..., -0.000278,  0.088935,  0.010214, -0.014814], dtype=float32),\n",
              " array([ 0.091288,  0.025317,  0.070214,  0.120157, ...,  0.018057, -0.13161 ,  0.006271, -0.032425], dtype=float32),\n",
              " array([ 0.019668, -0.123387, -0.022318,  0.075827, ..., -0.109422,  0.049323, -0.133174,  0.065641], dtype=float32),\n",
              " array([-0.078286,  0.027689,  0.001383,  0.056439, ..., -0.034347,  0.03151 , -0.065314, -0.109809], dtype=float32),\n",
              " array([-0.103869,  0.10678 , -0.151248,  0.040926, ...,  0.0909  , -0.062604, -0.131461,  0.130269], dtype=float32),\n",
              " array([ 0.242197,  0.227901,  0.124662, -0.27727 , ...,  0.314803, -0.17433 ,  0.278329,  0.182786], dtype=float32),\n",
              " array([ 0.287298,  0.051568,  0.043172,  0.115851, ...,  0.148276, -0.128211,  0.107505,  0.103582], dtype=float32),\n",
              " array([ 0.174218, -0.181305,  0.085684,  0.017089, ...,  0.177324,  0.041767,  0.170768, -0.020966], dtype=float32),\n",
              " array([ 0.048803,  0.037554, -0.016038, -0.080881, ..., -0.090125, -0.080127,  0.00373 , -0.071606], dtype=float32),\n",
              " array([ 0.022465, -0.139364, -0.258081,  0.05278 , ...,  0.024766,  0.008547, -0.062759, -0.148148], dtype=float32),\n",
              " array([-0.35086 ,  0.20958 ,  0.249544, -0.309201, ...,  0.277038, -0.069104,  0.260537,  0.222542], dtype=float32),\n",
              " array([-0.217602, -0.023019, -0.126821,  0.135508, ...,  0.003315,  0.118487, -0.163575,  0.02694 ], dtype=float32),\n",
              " array([-0.21153 ,  0.130938,  0.0524  , -0.122664, ..., -0.028337, -0.061193, -0.069393, -0.026207], dtype=float32),\n",
              " array([-0.059652, -0.095573, -0.015293, -0.00964 , ..., -0.089031, -0.027308,  0.010445, -0.078295], dtype=float32),\n",
              " array([ 0.01617 , -0.072272,  0.012327, -0.059177, ..., -0.092211,  0.057339, -0.074499, -0.084813], dtype=float32),\n",
              " array([ 0.097826,  0.173421,  0.145654, -0.410998, ...,  0.21712 ,  0.128419,  0.027007, -0.049363], dtype=float32),\n",
              " array([ 0.011605, -0.066245,  0.03321 ,  0.058495, ..., -0.017928,  0.054055, -0.091142,  0.031707], dtype=float32),\n",
              " array([-0.019   , -0.05594 ,  0.106152, -0.098467, ...,  0.040187, -0.10347 , -0.091633,  0.15118 ], dtype=float32),\n",
              " array([ 0.002647,  0.06311 ,  0.134271,  0.024644, ...,  0.145518,  0.16605 , -0.059498, -0.011381], dtype=float32),\n",
              " array([-0.130599,  0.164852, -0.178685,  0.091542, ..., -0.047527,  0.019247, -0.135214,  0.086988], dtype=float32),\n",
              " array([-0.001445,  0.146372,  0.191054, -0.033626, ...,  0.298906, -0.064925, -0.257128,  0.243472], dtype=float32),\n",
              " array([-0.187646,  0.081592, -0.291238,  0.151658, ...,  0.086691,  0.138409, -0.172792, -0.07382 ], dtype=float32),\n",
              " array([-0.35086 ,  0.20958 ,  0.249544, -0.309201, ...,  0.277038, -0.069104,  0.260537,  0.222542], dtype=float32),\n",
              " array([-0.00467 , -0.138958, -0.003367,  0.020164, ...,  0.020855,  0.011938, -0.04767 , -0.029514], dtype=float32),\n",
              " array([-0.001445,  0.146372,  0.191054, -0.033626, ...,  0.298906, -0.064925, -0.257128,  0.243472], dtype=float32),\n",
              " array([-0.105689, -0.05239 , -0.023872,  0.129589, ..., -0.137817, -0.074242, -0.022808,  0.119103], dtype=float32),\n",
              " array([-0.302074,  0.061416,  0.091822, -0.144713, ..., -0.05767 ,  0.042784, -0.121286, -0.107653], dtype=float32),\n",
              " array([ 0.244414,  0.238057, -0.027288, -0.116643, ...,  0.002724, -0.062839,  0.080777,  0.007172], dtype=float32),\n",
              " array([-0.068142,  0.06478 , -0.016016,  0.106676, ...,  0.028759, -0.063296,  0.06422 ,  0.013807], dtype=float32),\n",
              " array([ 0.015282,  0.04563 , -0.1742  ,  0.174429, ...,  0.015075,  0.074743, -0.13956 ,  0.04146 ], dtype=float32),\n",
              " array([ 0.242197,  0.227901,  0.124662, -0.27727 , ...,  0.314803, -0.17433 ,  0.278329,  0.182786], dtype=float32)]"
            ]
          },
          "metadata": {},
          "execution_count": 31
        }
      ]
    },
    {
      "cell_type": "code",
      "source": [],
      "metadata": {
        "id": "HNsEvWEvzMFe"
      },
      "execution_count": null,
      "outputs": []
    }
  ]
}